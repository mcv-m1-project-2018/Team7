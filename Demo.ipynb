{
 "cells": [
  {
   "cell_type": "code",
   "execution_count": 38,
   "metadata": {},
   "outputs": [],
   "source": [
    "from db_analysis import read_gt, visualize, stats, sign_counter\n",
    "from color_analysis import blue_test, color_segmentation_hsv, color_analysis, parse_sign_type\n",
    "import cv2\n",
    "import pandas as pd\n",
    "import numpy as np\n",
    "import matplotlib.pyplot as plt"
   ]
  },
  {
   "cell_type": "markdown",
   "metadata": {},
   "source": [
    "# Data loading and Analysis"
   ]
  },
  {
   "cell_type": "code",
   "execution_count": 41,
   "metadata": {},
   "outputs": [
    {
     "name": "stdout",
     "output_type": "stream",
     "text": [
      "Train data size:  393\n",
      "First example [image id, [tly, tlx, bry, brx], sign type, aspect ratio] :\n",
      "['00.004767', [94.9, 1410.99, 150.3, 1468.95], 'F', 1.046209386281589]\n"
     ]
    },
    {
     "data": {
      "text/html": [
       "<div>\n",
       "<style scoped>\n",
       "    .dataframe tbody tr th:only-of-type {\n",
       "        vertical-align: middle;\n",
       "    }\n",
       "\n",
       "    .dataframe tbody tr th {\n",
       "        vertical-align: top;\n",
       "    }\n",
       "\n",
       "    .dataframe thead th {\n",
       "        text-align: right;\n",
       "    }\n",
       "</style>\n",
       "<table border=\"1\" class=\"dataframe\">\n",
       "  <thead>\n",
       "    <tr style=\"text-align: right;\">\n",
       "      <th></th>\n",
       "      <th>Sign count</th>\n",
       "      <th>filling ratios</th>\n",
       "    </tr>\n",
       "  </thead>\n",
       "  <tbody>\n",
       "    <tr>\n",
       "      <th>D - Blue Circle</th>\n",
       "      <td>71</td>\n",
       "      <td>0.779416</td>\n",
       "    </tr>\n",
       "    <tr>\n",
       "      <th>F - Blue Square</th>\n",
       "      <td>120</td>\n",
       "      <td>1.000000</td>\n",
       "    </tr>\n",
       "    <tr>\n",
       "      <th>C - Red Circle</th>\n",
       "      <td>47</td>\n",
       "      <td>0.783965</td>\n",
       "    </tr>\n",
       "    <tr>\n",
       "      <th>A - Red Triangle</th>\n",
       "      <td>103</td>\n",
       "      <td>0.500770</td>\n",
       "    </tr>\n",
       "    <tr>\n",
       "      <th>E - Red and Blue Circle</th>\n",
       "      <td>38</td>\n",
       "      <td>0.784881</td>\n",
       "    </tr>\n",
       "    <tr>\n",
       "      <th>B - Yield</th>\n",
       "      <td>14</td>\n",
       "      <td>0.496148</td>\n",
       "    </tr>\n",
       "  </tbody>\n",
       "</table>\n",
       "</div>"
      ],
      "text/plain": [
       "                         Sign count  filling ratios\n",
       "D - Blue Circle                  71        0.779416\n",
       "F - Blue Square                 120        1.000000\n",
       "C - Red Circle                   47        0.783965\n",
       "A - Red Triangle                103        0.500770\n",
       "E - Red and Blue Circle          38        0.784881\n",
       "B - Yield                        14        0.496148"
      ]
     },
     "execution_count": 41,
     "metadata": {},
     "output_type": "execute_result"
    }
   ],
   "source": [
    "gt_train_dir  = \"./train/gt/\"\n",
    "im_train_dir  = \"./train/\"\n",
    "msk_train_dir = \"./train/mask/\"\n",
    "\n",
    "gt = read_gt(gt_train_dir)\n",
    "\n",
    "print('Train data size: ', len(gt))\n",
    "print('First example [image id, [tly, tlx, bry, brx], sign type, aspect ratio] :')\n",
    "print(gt[0])\n",
    "\n",
    "keys = [s[0] for s in sign_count[:]]\n",
    "data = {'Sign count':     [s[1] for s in sign_count[:]],\n",
    "        'filling ratios': [sum(filling_ratios[key])/len(filling_ratios[key])  for key in  keys] }\n",
    "keys_name = [key+' - '+parse_sign_type(key) for key in keys]\n",
    "\n",
    "df = pd.DataFrame(data=data, index = keys_name)\n",
    "df"
   ]
  },
  {
   "cell_type": "code",
   "execution_count": null,
   "metadata": {},
   "outputs": [],
   "source": []
  }
 ],
 "metadata": {
  "kernelspec": {
   "display_name": "Python 3.6",
   "language": "python3.6",
   "name": "python3"
  },
  "language_info": {
   "codemirror_mode": {
    "name": "ipython",
    "version": 3
   },
   "file_extension": ".py",
   "mimetype": "text/x-python",
   "name": "python",
   "nbconvert_exporter": "python",
   "pygments_lexer": "ipython3",
   "version": "3.6.3"
  }
 },
 "nbformat": 4,
 "nbformat_minor": 2
}
