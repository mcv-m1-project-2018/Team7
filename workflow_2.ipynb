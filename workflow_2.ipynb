{
 "cells": [
  {
   "cell_type": "code",
   "execution_count": 1,
   "metadata": {},
   "outputs": [],
   "source": [
    "import matplotlib.pyplot as plt\n",
    "import pandas as pd\n",
    "import numpy as np\n",
    "import cv2\n",
    "import os\n",
    "import time \n",
    "\n",
    "from data import Data_handler\n",
    "from data_analysis import Data_analysis\n",
    "from traffic_signs.traffic_sign_detection import traffic_sign_detection\n",
    "from traffic_sign_model import Traffic_sign_model\n",
    "from traffic_signs.traffic_sign_detection import traffic_sign_detection\n",
    "from method_1 import method_1"
   ]
  },
  {
   "cell_type": "code",
   "execution_count": 2,
   "metadata": {},
   "outputs": [
    {
     "data": {
      "text/plain": [
       "\"\\nmodel = Traffic_sign_model()\\nmodel.evaluate(split = 'train', output_dir='test_results/')\\n\""
      ]
     },
     "execution_count": 2,
     "metadata": {},
     "output_type": "execute_result"
    }
   ],
   "source": [
    "\"\"\"\n",
    "model = Traffic_sign_model()\n",
    "model.evaluate(split = 'train', output_dir='test_results/')\n",
    "\"\"\""
   ]
  },
  {
   "cell_type": "code",
   "execution_count": 3,
   "metadata": {},
   "outputs": [
    {
     "name": "stdout",
     "output_type": "stream",
     "text": [
      "Reading data\n",
      "Running detection algorithm on train split\n",
      "\n",
      "{'pixel_precision': 0.39433269666570936, 'pixel_accuracy': 0.9941087222169991, 'pixel_specificity': 0.9952552870629943, 'pixel_sensitivity': 0.725013442682523, 'window_sensitivity': 0.6353790613718412, 'window_precision': 0.21204819277108433, 'window_accuracy': 0.18904403866809882}\n"
     ]
    },
    {
     "data": {
      "text/plain": [
       "{'pixel_accuracy': 0.9941087222169991,\n",
       " 'pixel_precision': 0.39433269666570936,\n",
       " 'pixel_sensitivity': 0.725013442682523,\n",
       " 'pixel_specificity': 0.9952552870629943,\n",
       " 'window_accuracy': 0.18904403866809882,\n",
       " 'window_precision': 0.21204819277108433,\n",
       " 'window_sensitivity': 0.6353790613718412}"
      ]
     },
     "execution_count": 3,
     "metadata": {},
     "output_type": "execute_result"
    }
   ],
   "source": [
    "model = method_1()\n",
    "model.evaluate(split = 'train', output_dir='results/')"
   ]
  },
  {
   "cell_type": "code",
   "execution_count": 4,
   "metadata": {},
   "outputs": [],
   "source": [
    "cv2.destroyAllWindows()"
   ]
  },
  {
   "cell_type": "code",
   "execution_count": null,
   "metadata": {},
   "outputs": [],
   "source": []
  }
 ],
 "metadata": {
  "kernelspec": {
   "display_name": "Python 3.6",
   "language": "python3.6",
   "name": "python3"
  },
  "language_info": {
   "codemirror_mode": {
    "name": "ipython",
    "version": 3
   },
   "file_extension": ".py",
   "mimetype": "text/x-python",
   "name": "python",
   "nbconvert_exporter": "python",
   "pygments_lexer": "ipython3",
   "version": "3.6.3"
  }
 },
 "nbformat": 4,
 "nbformat_minor": 2
}
