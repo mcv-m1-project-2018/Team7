{
 "cells": [
  {
   "cell_type": "code",
   "execution_count": 1,
   "metadata": {},
   "outputs": [],
   "source": [
    "import matplotlib.pyplot as plt\n",
    "import pandas as pd\n",
    "import numpy as np\n",
    "import cv2\n",
    "import os\n",
    "import time \n",
    "\n",
    "from data import Data_handler\n",
    "from data_analysis import Data_analysis\n",
    "from traffic_signs.traffic_sign_detection import traffic_sign_detection\n",
    "from traffic_sign_model import Traffic_sign_model\n",
    "from traffic_signs.traffic_sign_detection import traffic_sign_detection"
   ]
  },
  {
   "cell_type": "code",
   "execution_count": 2,
   "metadata": {},
   "outputs": [
    {
     "name": "stdout",
     "output_type": "stream",
     "text": [
      "{'pixel_precision': 0.46984782014703175, 'pixel_accuracy': 0.9953548070502471, 'pixel_specificity': 0.9964468166959001, 'pixel_sensitivity': 0.7390634669854174, 'window_precision': 0.2859304084720121, 'window_accuracy': 0.2523364485981308}\n"
     ]
    },
    {
     "data": {
      "text/plain": [
       "{'pixel_accuracy': 0.9953548070502471,\n",
       " 'pixel_precision': 0.46984782014703175,\n",
       " 'pixel_sensitivity': 0.7390634669854174,\n",
       " 'pixel_specificity': 0.9964468166959001,\n",
       " 'window_accuracy': 0.2523364485981308,\n",
       " 'window_precision': 0.2859304084720121}"
      ]
     },
     "execution_count": 2,
     "metadata": {},
     "output_type": "execute_result"
    }
   ],
   "source": [
    "model = Traffic_sign_model()\n",
    "model.evaluate(split = 'train', output_dir='test_results/')"
   ]
  },
  {
   "cell_type": "code",
   "execution_count": null,
   "metadata": {},
   "outputs": [],
   "source": []
  }
 ],
 "metadata": {
  "kernelspec": {
   "display_name": "Python 3.6",
   "language": "python3.6",
   "name": "python3"
  },
  "language_info": {
   "codemirror_mode": {
    "name": "ipython",
    "version": 3
   },
   "file_extension": ".py",
   "mimetype": "text/x-python",
   "name": "python",
   "nbconvert_exporter": "python",
   "pygments_lexer": "ipython3",
   "version": "3.6.3"
  }
 },
 "nbformat": 4,
 "nbformat_minor": 2
}
